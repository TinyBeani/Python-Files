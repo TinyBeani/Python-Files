{
 "cells": [
  {
   "cell_type": "code",
   "execution_count": null,
   "id": "49831262",
   "metadata": {},
   "outputs": [],
   "source": [
    "import matplotlib.pyplot as plt\n",
    "import numpy as np\n",
    "\n",
    "def gradient_descent(f, learning_rate, initial_point):\n",
    "    \n",
    "    def deriv(f, base_point): #estimate the derivative of the function f at base_point\n",
    "        return(f(base_point+10**(-5))-f(base_point))/(10**(-5))\n",
    "    \n",
    "    x_coords=[initial_point] #This list is where you will store the x_n's\n",
    "    y_coords=[f(initial_point)] #This list is where you will store the y_n's\n",
    "    \n",
    "def y_function(x):\n",
    "    return x**2\n",
    "\n",
    "def derivative_y(x):\n",
    "    return 2*x\n",
    "\n",
    "\n",
    "x = np.arange(-100, 100, 0.1)\n",
    "y= y_function(x)\n",
    "\n",
    "current_pos = (50, y_function(50))\n",
    "\n",
    "    \n",
    "learning_rate=0.01\n",
    "    \n",
    "    \n",
    "for i in range(100):\n",
    "    gradient = derivative_y(x_coords[-1])\n",
    "    update = -learning_rate * gradient\n",
    "    new_x = current_pos[0] - learning_rate * derivative_y(current_pos[0])\n",
    "    new_y = y_function(new_x)\n",
    "    current_pos = (new_x, new_y)\n",
    "    \n",
    "    x_coords.append(new_x)\n",
    "    y_coords.append(f(new_x))\n",
    "    \n",
    "    plot_range=np.linspace(min(x_coords)-0.5,#a nice plot range\n",
    "                           max(x_coords)+0.5,100) #to make look good\n",
    "    function_range=[f(i) for i in plot_range]\n",
    "    plt.plot(plot_range, function_range) #this plots the function f(x)\n",
    "    plt.plot(x_coords, y_coords) #This will plot the sequence of points x_n, f(x_n)\n",
    "    \n",
    "return round(x_coords[-1],3), round(y_coords[-1],3) #returns your last x_n and y_n,\n",
    "                                                        #rounded to three decimal places.\n",
    "    \n",
    "    \n",
    "    \n",
    "   "
   ]
  },
  {
   "cell_type": "code",
   "execution_count": null,
   "id": "f7413dfb",
   "metadata": {},
   "outputs": [],
   "source": []
  }
 ],
 "metadata": {
  "kernelspec": {
   "display_name": "Python 3 (ipykernel)",
   "language": "python",
   "name": "python3"
  },
  "language_info": {
   "codemirror_mode": {
    "name": "ipython",
    "version": 3
   },
   "file_extension": ".py",
   "mimetype": "text/x-python",
   "name": "python",
   "nbconvert_exporter": "python",
   "pygments_lexer": "ipython3",
   "version": "3.11.4"
  }
 },
 "nbformat": 4,
 "nbformat_minor": 5
}
