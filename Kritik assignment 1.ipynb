{
 "cells": [
  {
   "cell_type": "code",
   "execution_count": 9,
   "id": "adf971b5",
   "metadata": {},
   "outputs": [],
   "source": [
    "def greg(x):\n",
    "   n=0\n",
    "   a=0\n",
    "   error_bound = (x**(2*n+1)/(2*n+1))\n",
    "   if 0<=x<=1:\n",
    "        while error_bound > 0.0001:\n",
    "            n+= 1\n",
    "            error_bound = (x**(2*n+1)/(2*n+1))\n",
    "        for(i) in range(0, n-1):\n",
    "         a+=((-1)**i*x**(2*i*1/(2*i+1)))\n",
    "        another_n=(2*n+1)\n",
    "        return (a, another_n, error_bound)    \n",
    "\n",
    "\n",
    "   else:\n",
    "    print(\"error!\")"
   ]
  },
  {
   "cell_type": "code",
   "execution_count": 10,
   "id": "59f3f00e",
   "metadata": {},
   "outputs": [
    {
     "data": {
      "text/plain": [
       "(1.0, 10001, 9.999000099990002e-05)"
      ]
     },
     "execution_count": 10,
     "metadata": {},
     "output_type": "execute_result"
    }
   ],
   "source": [
    "greg(1)"
   ]
  },
  {
   "cell_type": "code",
   "execution_count": 11,
   "id": "17f7b650",
   "metadata": {},
   "outputs": [
    {
     "data": {
      "text/plain": [
       "(0, 1, 0.0)"
      ]
     },
     "execution_count": 11,
     "metadata": {},
     "output_type": "execute_result"
    }
   ],
   "source": [
    "greg(0)"
   ]
  },
  {
   "cell_type": "code",
   "execution_count": 12,
   "id": "bc30a8b7",
   "metadata": {},
   "outputs": [
    {
     "data": {
      "text/plain": [
       "(0.6031497370079502, 7, 8.719308035714285e-06)"
      ]
     },
     "execution_count": 12,
     "metadata": {},
     "output_type": "execute_result"
    }
   ],
   "source": [
    "greg(0.25)"
   ]
  },
  {
   "cell_type": "code",
   "execution_count": 13,
   "id": "94f879b5",
   "metadata": {},
   "outputs": [
    {
     "name": "stdout",
     "output_type": "stream",
     "text": [
      "error!\n"
     ]
    }
   ],
   "source": [
    "greg(-1)"
   ]
  },
  {
   "cell_type": "code",
   "execution_count": 14,
   "id": "bb86bb44",
   "metadata": {},
   "outputs": [
    {
     "data": {
      "text/plain": [
       "(0.19557489118031546, 23, 5.816761029294689e-05)"
      ]
     },
     "execution_count": 14,
     "metadata": {},
     "output_type": "execute_result"
    }
   ],
   "source": [
    "greg(0.75)"
   ]
  },
  {
   "cell_type": "code",
   "execution_count": 15,
   "id": "083e67fe",
   "metadata": {},
   "outputs": [
    {
     "data": {
      "text/plain": [
       "(0.3923438957141746, 11, 4.438920454545455e-05)"
      ]
     },
     "execution_count": 15,
     "metadata": {},
     "output_type": "execute_result"
    }
   ],
   "source": [
    "greg(0.5)"
   ]
  },
  {
   "cell_type": "markdown",
   "id": "18c4655c",
   "metadata": {},
   "source": [
    "##### 555%"
   ]
  }
 ],
 "metadata": {
  "kernelspec": {
   "display_name": "Python 3 (ipykernel)",
   "language": "python",
   "name": "python3"
  },
  "language_info": {
   "codemirror_mode": {
    "name": "ipython",
    "version": 3
   },
   "file_extension": ".py",
   "mimetype": "text/x-python",
   "name": "python",
   "nbconvert_exporter": "python",
   "pygments_lexer": "ipython3",
   "version": "3.11.4"
  }
 },
 "nbformat": 4,
 "nbformat_minor": 5
}
