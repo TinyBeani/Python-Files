{
 "cells": [
  {
   "cell_type": "code",
   "execution_count": 25,
   "id": "69b58cc5-5834-48dd-a31d-cdfffe1caeae",
   "metadata": {},
   "outputs": [],
   "source": [
    "def greg(f,c,E):\n",
    "    c=1\n",
    "    E=0.1\n",
    "    n=100\n",
    "    x1=c\n",
    "    x2=c\n",
    "    delx=10**(-8)\n",
    "    d=0.001\n",
    "    def fprime(x):\n",
    "        return (f(x+delx)-f(x-delx))/(2*delx)\n",
    "    def L(x):\n",
    "        return f(c)+fprime(c)*(x-c)\n",
    "\n",
    "    for i in range(n):\n",
    "        x1-=d #abbreviation for x1=x1-d\n",
    "        if abs(f(x1)-L(x1)) <= E:\n",
    "            print(x1) #why do you want to print x1 at each step of the loop?\n",
    "            break\n",
    "    if abs(f(x1)-L(x1)) <= E:\n",
    "        print(x1)#???\n",
    "    else:\n",
    "        print(\"No such x1 can be found\")\n",
    "\n",
    "    for i in range(n):\n",
    "        x2+=d\n",
    "        if abs (f(x2)-L(x2)) <= E:\n",
    "            print(x2) #why do this??\n",
    "            break\n",
    "    if abs(f(x2)-L(x2)) <= E:\n",
    "        print(x2) #???\n",
    "    else:\n",
    "        print(\"No such x2 can be found\")\n",
    "    return (x1,x2)\n"
   ]
  },
  {
   "cell_type": "code",
   "execution_count": 26,
   "id": "625d3d68-31c5-4ba5-96f8-675530ea572d",
   "metadata": {},
   "outputs": [],
   "source": [
    "def test_function(x):\n",
    "    return x**2"
   ]
  },
  {
   "cell_type": "code",
   "execution_count": 27,
   "id": "a659b0d7-1899-4a1e-86da-269aee69f5b8",
   "metadata": {},
   "outputs": [
    {
     "name": "stdout",
     "output_type": "stream",
     "text": [
      "0.999\n",
      "0.999\n",
      "1.001\n",
      "1.001\n"
     ]
    },
    {
     "data": {
      "text/plain": [
       "(0.999, 1.001)"
      ]
     },
     "execution_count": 27,
     "metadata": {},
     "output_type": "execute_result"
    }
   ],
   "source": [
    "greg(test_function, 1,0.01)"
   ]
  },
  {
   "cell_type": "code",
   "execution_count": null,
   "id": "b4a315f2-2c02-41df-946a-a671669c326a",
   "metadata": {},
   "outputs": [],
   "source": []
  }
 ],
 "metadata": {
  "kernelspec": {
   "display_name": "Python 3 (ipykernel)",
   "language": "python",
   "name": "python3"
  },
  "language_info": {
   "codemirror_mode": {
    "name": "ipython",
    "version": 3
   },
   "file_extension": ".py",
   "mimetype": "text/x-python",
   "name": "python",
   "nbconvert_exporter": "python",
   "pygments_lexer": "ipython3",
   "version": "3.11.4"
  }
 },
 "nbformat": 4,
 "nbformat_minor": 5
}
