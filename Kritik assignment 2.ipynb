{
 "cells": [
  {
   "cell_type": "code",
   "execution_count": 21,
   "id": "c5935b65-8ca1-4847-9cbf-29ee57495b0d",
   "metadata": {},
   "outputs": [],
   "source": [
    "def tinus_fun(f,a,b,N):\n",
    "    tinus_fun=[]\n",
    "    if f(a)*f(b)>= 0:\n",
    "        print (\"does not work because of opposite signs\")\n",
    "        return None\n",
    "\n",
    "    for n in range(1,N+1):\n",
    "        m =(a+b)/2 \n",
    "        if f(a)* f(m) < 0:\n",
    "            b=m\n",
    "            a=a\n",
    "        elif f(b)* f(m) < 0:   \n",
    "            m=a\n",
    "            b=b\n",
    "    return (a+b)/2"
   ]
  },
  {
   "cell_type": "code",
   "execution_count": 22,
   "id": "7c57a31a-5f88-4bc5-bc16-3e0bf03df1fa",
   "metadata": {},
   "outputs": [
    {
     "name": "stderr",
     "output_type": "stream",
     "text": [
      "/tmp/ipykernel_101/255904098.py:3: RuntimeWarning: divide by zero encountered in log\n",
      "  f = lambda x: math.exp(x) + np.log(x)\n"
     ]
    },
    {
     "name": "stdout",
     "output_type": "stream",
     "text": [
      "0.25\n"
     ]
    }
   ],
   "source": [
    "import math\n",
    "import numpy as np\n",
    "f = lambda x: math.exp(x) + np.log(x)\n",
    "approx_phi = tinus_fun(f,0,1,10000000)\n",
    "print(approx_phi)"
   ]
  },
  {
   "cell_type": "code",
   "execution_count": 19,
   "id": "c6df33cf-a888-4751-afcd-ddd3b351942f",
   "metadata": {},
   "outputs": [
    {
     "name": "stdout",
     "output_type": "stream",
     "text": [
      "does not work because of opposite signs\n",
      "None\n"
     ]
    }
   ],
   "source": [
    "import math\n",
    "import numpy as np\n",
    "f = lambda x: math.atan(x) - x**2\n",
    "approx_phi = tinus_fun(f,0,2,9)\n",
    "print(approx_phi)"
   ]
  },
  {
   "cell_type": "code",
   "execution_count": 20,
   "id": "842a4297-36d5-4fda-ae21-1441e23adca1",
   "metadata": {},
   "outputs": [
    {
     "name": "stdout",
     "output_type": "stream",
     "text": [
      "3.125\n"
     ]
    }
   ],
   "source": [
    "import math\n",
    "import numpy as np\n",
    "f = lambda x: math.sin(x)/ np.log(x)\n",
    "approx_phi = tinus_fun(f,3,4,9)\n",
    "print(approx_phi)"
   ]
  },
  {
   "cell_type": "code",
   "execution_count": 21,
   "id": "728277f2-8813-4bf1-a7f8-0dad1e70f0b7",
   "metadata": {},
   "outputs": [
    {
     "name": "stdout",
     "output_type": "stream",
     "text": [
      "does not work because of opposite signs\n",
      "None\n"
     ]
    }
   ],
   "source": [
    "import math\n",
    "import numpy as np\n",
    "f = lambda x: np.log(math.cos(x))\n",
    "approx_phi = tinus_fun(f,5,7,9)\n",
    "print(approx_phi)"
   ]
  },
  {
   "cell_type": "code",
   "execution_count": null,
   "id": "27bb0122-891e-4e16-aaf8-0159d74a7344",
   "metadata": {},
   "outputs": [],
   "source": []
  }
 ],
 "metadata": {
  "kernelspec": {
   "display_name": "Python 3 (ipykernel)",
   "language": "python",
   "name": "python3"
  },
  "language_info": {
   "codemirror_mode": {
    "name": "ipython",
    "version": 3
   },
   "file_extension": ".py",
   "mimetype": "text/x-python",
   "name": "python",
   "nbconvert_exporter": "python",
   "pygments_lexer": "ipython3",
   "version": "3.11.4"
  }
 },
 "nbformat": 4,
 "nbformat_minor": 5
}
