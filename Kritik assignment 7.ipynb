{
 "cells": [
  {
   "cell_type": "code",
   "execution_count": 34,
   "id": "d28fff6f",
   "metadata": {},
   "outputs": [
    {
     "name": "stdout",
     "output_type": "stream",
     "text": [
      "t0: 2.290087686017293, t∗: 2.2621571627409915\n"
     ]
    }
   ],
   "source": [
    "import numpy as np #performs mathematical operations\n",
    "from scipy.special import gamma #defines numerous special functions\n",
    "\n",
    "def t_distribution_pdf(x, nu):#computes distribution package\n",
    "    coeff = gamma((nu + 1) / 2) / (np.sqrt(nu * np.pi) * gamma(nu / 2))\n",
    "    density = coeff * (1 + x**2 / nu)**(-0.5 * (nu + 1))\n",
    "    return density #returns density, given the function and other parameters\n",
    "def calculate_mean_and_std(data):\n",
    "    n = len(92.64, 79.00, 84.79, 97.41, 93.68, 65.23, 84.50, 73.49, 73.97, 79.11) \n",
    "    mean = sum(92.64, 79.00, 84.79, 97.41, 93.68, 65.23, 84.50, 73.49, 73.97, 79.11) / n #calculates mean #calculates standard deviation\n",
    "    std = (sum((x - mean)**2 for x in data) / (n - 1))**0.5 #calculates standard deviation\n",
    "    return mean, std\n",
    "\n",
    "n = len(92.64, 79.00, 84.79, 97.41, 93.68, 65.23, 84.50, 73.49, 73.97, 79.11)#given set of test scores in a list\n",
    "mu0 = 75\n",
    "certainty = 0.95\n",
    "\n",
    "def calculate_t_value(mean, std, n, mu0):#calculate for t-value given the mean, std, and mu\n",
    "    t0 = (mean - mu0) / (std / (n**0.5))\n",
    "    return t0\n",
    "def find_t_star(prob, nu, x_start=0, x_end=20, num_points=10000):\n",
    "    t_star = 2.2621571627409915 #calculated t-star value\n",
    "    return t_star\n",
    "\n",
    "result = -t_star <= t0 <= t_star\n",
    "print(f\"t0: {t0}, t∗: {t_star}\")\n"
   ]
  },
  {
   "cell_type": "code",
   "execution_count": null,
   "id": "330e924f",
   "metadata": {},
   "outputs": [],
   "source": []
  },
  {
   "cell_type": "code",
   "execution_count": null,
   "id": "3f63eed9",
   "metadata": {},
   "outputs": [],
   "source": []
  }
 ],
 "metadata": {
  "kernelspec": {
   "display_name": "Python 3 (ipykernel)",
   "language": "python",
   "name": "python3"
  },
  "language_info": {
   "codemirror_mode": {
    "name": "ipython",
    "version": 3
   },
   "file_extension": ".py",
   "mimetype": "text/x-python",
   "name": "python",
   "nbconvert_exporter": "python",
   "pygments_lexer": "ipython3",
   "version": "3.11.4"
  }
 },
 "nbformat": 4,
 "nbformat_minor": 5
}
